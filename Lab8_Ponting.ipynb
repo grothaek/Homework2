{
 "cells": [
  {
   "cell_type": "code",
   "execution_count": 1,
   "metadata": {},
   "outputs": [
    {
     "name": "stdin",
     "output_type": "stream",
     "text": [
      "Enter the radius: 12\n"
     ]
    },
    {
     "name": "stdout",
     "output_type": "stream",
     "text": [
      "Circumference of the circle is:75.40\n"
     ]
    }
   ],
   "source": [
    "# Lab 8 - Functions \n",
    "\n",
    "#1  The formula for the circumference of a circle is 2 pi radius. \n",
    "#   Write a function, calculate_circumference, that accepts a radius argument and returns the circumference\n",
    "#  of a circle with that radius. Hint: use pi from the math library.\n",
    "\n",
    "import math\n",
    "radius = float(input(\"Enter the radius:\"))\n",
    "circumference = 2 * math.pi * radius \n",
    "print(\"Circumference of the circle is:%.2f\"%circumference)\n"
   ]
  },
  {
   "cell_type": "code",
   "execution_count": 2,
   "metadata": {},
   "outputs": [
    {
     "name": "stdout",
     "output_type": "stream",
     "text": [
      "Circumference of the circle is:6.28\n"
     ]
    }
   ],
   "source": [
    "#2 Update your function from #1 -- make the radius parameter default to 1.\n",
    "import math\n",
    "radius = 1\n",
    "circumference = 2 * math.pi * radius \n",
    "print(\"Circumference of the circle is:%.2f\"%circumference)\n"
   ]
  },
  {
   "cell_type": "code",
   "execution_count": 3,
   "metadata": {},
   "outputs": [
    {
     "name": "stdout",
     "output_type": "stream",
     "text": [
      "25.132741228718345\n",
      "521.5043804959057\n",
      "23.24778563656447\n",
      "56.548667764616276\n"
     ]
    }
   ],
   "source": [
    "#3  Create a list, radii, [4, 83, 3.7, 9]. Loop over these elements and use your function from #1 to check the circumference for each radius in that list.\n",
    "\n",
    "radii = [4, 83, 3.7, 9]\n",
    "type(radii)\n",
    "\n",
    "for item in radii:\n",
    "    print (item*circumference)"
   ]
  },
  {
   "cell_type": "code",
   "execution_count": 11,
   "metadata": {},
   "outputs": [
    {
     "name": "stdin",
     "output_type": "stream",
     "text": [
      "Enter the radius: 12\n"
     ]
    },
    {
     "ename": "TypeError",
     "evalue": "must be real number, not function",
     "output_type": "error",
     "traceback": [
      "\u001b[1;31m---------------------------------------------------------------------------\u001b[0m",
      "\u001b[1;31mTypeError\u001b[0m                                 Traceback (most recent call last)",
      "\u001b[1;32m<ipython-input-11-8f3079bbeea0>\u001b[0m in \u001b[0;36m<module>\u001b[1;34m\u001b[0m\n\u001b[0;32m      3\u001b[0m \u001b[0mradius\u001b[0m \u001b[1;33m=\u001b[0m \u001b[0mfloat\u001b[0m\u001b[1;33m(\u001b[0m\u001b[0minput\u001b[0m\u001b[1;33m(\u001b[0m\u001b[1;34m\"Enter the radius:\"\u001b[0m\u001b[1;33m)\u001b[0m\u001b[1;33m)\u001b[0m\u001b[1;33m\u001b[0m\u001b[1;33m\u001b[0m\u001b[0m\n\u001b[0;32m      4\u001b[0m \u001b[0mcircumference2\u001b[0m \u001b[1;33m=\u001b[0m \u001b[1;32mlambda\u001b[0m \u001b[0mradius\u001b[0m\u001b[1;33m:\u001b[0m \u001b[1;36m2\u001b[0m \u001b[1;33m*\u001b[0m \u001b[0mmath\u001b[0m\u001b[1;33m.\u001b[0m\u001b[0mpi\u001b[0m \u001b[1;33m*\u001b[0m \u001b[0mradius\u001b[0m\u001b[1;33m\u001b[0m\u001b[1;33m\u001b[0m\u001b[0m\n\u001b[1;32m----> 5\u001b[1;33m \u001b[0mprint\u001b[0m\u001b[1;33m(\u001b[0m\u001b[1;34m\"circumference:%.2f\"\u001b[0m\u001b[1;33m%\u001b[0m\u001b[0mcircumference2\u001b[0m\u001b[1;33m)\u001b[0m\u001b[1;33m\u001b[0m\u001b[1;33m\u001b[0m\u001b[0m\n\u001b[0m",
      "\u001b[1;31mTypeError\u001b[0m: must be real number, not function"
     ]
    }
   ],
   "source": [
    "#4 Rewrite your function from #1 (without a default argument) as a lambda function\n",
    "\n",
    "radius = float(input(\"Enter the radius:\"))\n",
    "circumference2 = lambda radius: 2 * math.pi * radius \n",
    "print(\"circumference:%.2f\"%circumference2)"
   ]
  },
  {
   "cell_type": "code",
   "execution_count": 12,
   "metadata": {},
   "outputs": [
    {
     "ename": "TypeError",
     "evalue": "unsupported operand type(s) for *: 'int' and 'function'",
     "output_type": "error",
     "traceback": [
      "\u001b[1;31m---------------------------------------------------------------------------\u001b[0m",
      "\u001b[1;31mTypeError\u001b[0m                                 Traceback (most recent call last)",
      "\u001b[1;32m<ipython-input-12-cf68f5731877>\u001b[0m in \u001b[0;36m<module>\u001b[1;34m\u001b[0m\n\u001b[0;32m      4\u001b[0m \u001b[1;33m\u001b[0m\u001b[0m\n\u001b[0;32m      5\u001b[0m \u001b[1;32mfor\u001b[0m \u001b[0mitem\u001b[0m \u001b[1;32min\u001b[0m \u001b[0mradii\u001b[0m\u001b[1;33m:\u001b[0m\u001b[1;33m\u001b[0m\u001b[1;33m\u001b[0m\u001b[0m\n\u001b[1;32m----> 6\u001b[1;33m     \u001b[0mprint\u001b[0m \u001b[1;33m(\u001b[0m\u001b[0mitem\u001b[0m\u001b[1;33m*\u001b[0m\u001b[0mcircumference2\u001b[0m\u001b[1;33m)\u001b[0m\u001b[1;33m\u001b[0m\u001b[1;33m\u001b[0m\u001b[0m\n\u001b[0m",
      "\u001b[1;31mTypeError\u001b[0m: unsupported operand type(s) for *: 'int' and 'function'"
     ]
    }
   ],
   "source": [
    "#5 Repeat #3, but using your lambda function instead. Is anything different about your results?\n",
    "radii = [4, 83, 3.7, 9]\n",
    "type(radii)\n",
    "\n",
    "for item in radii:\n",
    "    print (item*circumference2)"
   ]
  },
  {
   "cell_type": "code",
   "execution_count": 18,
   "metadata": {},
   "outputs": [
    {
     "name": "stdin",
     "output_type": "stream",
     "text": [
      " type\n",
      " 7\n"
     ]
    },
    {
     "data": {
      "text/plain": [
       "'type7'"
      ]
     },
     "execution_count": 18,
     "metadata": {},
     "output_type": "execute_result"
    }
   ],
   "source": [
    "#6  Create a function caller that accepts two arguments: func and target. Implement the body of caller so that it takes calls the input function (func) \n",
    "# on the input target (target) and returns the result. \n",
    "#e.g. caller(type, 7) would be the same as type(7), returning int.\n",
    "\n",
    "def caller(func,target):\n",
    "    return func + target\n",
    "caller(input(),input())"
   ]
  },
  {
   "cell_type": "code",
   "execution_count": 20,
   "metadata": {},
   "outputs": [
    {
     "data": {
      "text/plain": [
       "<function __main__.nan_filler(DataFrame, Scaler_Value)>"
      ]
     },
     "execution_count": 20,
     "metadata": {},
     "output_type": "execute_result"
    }
   ],
   "source": [
    "#7 Create a function, nan_filler, that takes as arguments a DataFrame and a scalar value. \n",
    "#  Implement it to return a copy of that DataFrame with all NaNs replaced with the scalar value.\n",
    "\n",
    "def nan_filler (DataFrame,Scaler_Value):\n",
    "    return DataFrame + Scaler_Value\n",
    "nan_filler"
   ]
  },
  {
   "cell_type": "code",
   "execution_count": 13,
   "metadata": {},
   "outputs": [],
   "source": [
    "#8 Copy the below function defintion to your notebook and try calling it with different inputs. \n",
    "#Pass it a single positional argument, several positional arguments, a single keyword argument, several keyword arguments, and then a mix of positional and keyword arguments. \n",
    "#Form a hypothesis about how *args and **kwargs work.\n",
    "\n",
    "def weird_func(*args, **kwargs):\n",
    "    print('args', args)\n",
    "    print('kwargs', kwargs)"
   ]
  },
  {
   "cell_type": "code",
   "execution_count": null,
   "metadata": {},
   "outputs": [],
   "source": []
  },
  {
   "cell_type": "code",
   "execution_count": null,
   "metadata": {},
   "outputs": [],
   "source": []
  },
  {
   "cell_type": "code",
   "execution_count": null,
   "metadata": {},
   "outputs": [],
   "source": []
  }
 ],
 "metadata": {
  "kernelspec": {
   "display_name": "Python 3",
   "language": "python",
   "name": "python3"
  },
  "language_info": {
   "codemirror_mode": {
    "name": "ipython",
    "version": 3
   },
   "file_extension": ".py",
   "mimetype": "text/x-python",
   "name": "python",
   "nbconvert_exporter": "python",
   "pygments_lexer": "ipython3",
   "version": "3.7.4"
  }
 },
 "nbformat": 4,
 "nbformat_minor": 4
}
